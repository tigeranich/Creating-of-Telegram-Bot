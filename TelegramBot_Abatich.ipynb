{
 "cells": [
  {
   "cell_type": "code",
   "execution_count": 1,
   "metadata": {
    "scrolled": false
   },
   "outputs": [
    {
     "name": "stdout",
     "output_type": "stream",
     "text": [
      "Requirement already satisfied: pyTelegramBotAPI in c:\\users\\lenovo\\anaconda3\\lib\\site-packages (3.7.7)\n",
      "Requirement already satisfied: requests in c:\\users\\lenovo\\anaconda3\\lib\\site-packages (from pyTelegramBotAPI) (2.24.0)\n",
      "Requirement already satisfied: idna<3,>=2.5 in c:\\users\\lenovo\\anaconda3\\lib\\site-packages (from requests->pyTelegramBotAPI) (2.10)\n",
      "Requirement already satisfied: urllib3!=1.25.0,!=1.25.1,<1.26,>=1.21.1 in c:\\users\\lenovo\\anaconda3\\lib\\site-packages (from requests->pyTelegramBotAPI) (1.25.9)\n",
      "Requirement already satisfied: certifi>=2017.4.17 in c:\\users\\lenovo\\anaconda3\\lib\\site-packages (from requests->pyTelegramBotAPI) (2020.6.20)\n",
      "Requirement already satisfied: chardet<4,>=3.0.2 in c:\\users\\lenovo\\anaconda3\\lib\\site-packages (from requests->pyTelegramBotAPI) (3.0.4)\n"
     ]
    }
   ],
   "source": [
    "!pip install pyTelegramBotAPI"
   ]
  },
  {
   "cell_type": "code",
   "execution_count": 2,
   "metadata": {},
   "outputs": [],
   "source": [
    "import telebot\n",
    "from telebot import types\n",
    "bot = telebot.TeleBot('токен')#токен скрыт "
   ]
  },
  {
   "cell_type": "code",
   "execution_count": 3,
   "metadata": {},
   "outputs": [
    {
     "data": {
      "text/plain": [
       "<telebot.types.InlineKeyboardMarkup at 0x2ae75123fa0>"
      ]
     },
     "execution_count": 3,
     "metadata": {},
     "output_type": "execute_result"
    }
   ],
   "source": [
    "idk = types.InlineKeyboardMarkup()\n",
    "answer_yes = types.InlineKeyboardButton(text='А что тогда делать?', callback_data='yes')\n",
    "idk.add(answer_yes)\n",
    "answer_no= types.InlineKeyboardButton(text='Ну и ладно', callback_data='no')\n",
    "idk.add(answer_no)\n"
   ]
  },
  {
   "cell_type": "code",
   "execution_count": 4,
   "metadata": {},
   "outputs": [
    {
     "data": {
      "text/plain": [
       "<telebot.types.InlineKeyboardMarkup at 0x2ae75123a00>"
      ]
     },
     "execution_count": 4,
     "metadata": {},
     "output_type": "execute_result"
    }
   ],
   "source": [
    "how_are_you = types.InlineKeyboardMarkup();\n",
    "answer_yes1 = types.InlineKeyboardButton(text='Отлично, спасибо!=)', callback_data='good'); \n",
    "how_are_you.add(answer_yes1); \n",
    "answer_no1 = types.InlineKeyboardButton(text='Бывало и лучше ;)', callback_data='bad');\n",
    "how_are_you.add(answer_no1)\n"
   ]
  },
  {
   "cell_type": "code",
   "execution_count": 5,
   "metadata": {},
   "outputs": [],
   "source": [
    "@bot.message_handler(commands=['start', 'help'])\n",
    "def welcome(message):\n",
    "    bot.reply_to(message,f'Меня зовут Абатова-бот. Приятно познакомиться,{message.from_user.first_name}')"
   ]
  },
  {
   "cell_type": "code",
   "execution_count": 6,
   "metadata": {},
   "outputs": [],
   "source": [
    "@bot.message_handler(content_types=['text'])\n",
    "def answer_messages(message):\n",
    "    if message.text.lower() == 'привет':\n",
    "        bot.send_message(message.from_user.id, 'Привет!')\n",
    "    elif message.text.lower() == 'салем':\n",
    "        bot.send_message(message.from_user.id, 'Салеметзизбе!')\n",
    "    elif message.text.lower() == 'как дела?':\n",
    "        bot.send_message(message.from_user.id, 'Хорошо! А у тебя?', reply_markup=how_are_you)\n",
    "    else:\n",
    "        bot.send_message(message.from_user.id, 'Не понимаю, я Абатова Гульнур, а не Алиса из Яндекса((', reply_markup=idk)"
   ]
  },
  {
   "cell_type": "code",
   "execution_count": 7,
   "metadata": {},
   "outputs": [],
   "source": [
    "@bot.callback_query_handler(func=lambda call: True)\n",
    "def callback_messages(call):\n",
    "    if call.data == \"good\":\n",
    "        bot.send_message(call.message.chat.id, 'Рада за тебя!!! =)')\n",
    "    elif call.data == \"bad\":\n",
    "        bot.send_message(call.message.chat.id, 'Да ничего страшного, я вообще тестовый телеграмм-бот, и не парюсь!=D')\n",
    "    elif call.data == \"yes\": \n",
    "        bot.send_message(call.message.chat.id, 'Ты можешь написать: \"Привет\", \"Салем\", \"Как дела?\"')\n",
    "    elif call.data == \"no\":\n",
    "        bot.send_message(call.message.chat.id, 'Пока!=)')"
   ]
  },
  {
   "cell_type": "code",
   "execution_count": null,
   "metadata": {},
   "outputs": [],
   "source": [
    "bot.polling(none_stop=True)"
   ]
  },
  {
   "cell_type": "code",
   "execution_count": null,
   "metadata": {},
   "outputs": [],
   "source": []
  }
 ],
 "metadata": {
  "kernelspec": {
   "display_name": "Python 3",
   "language": "python",
   "name": "python3"
  },
  "language_info": {
   "codemirror_mode": {
    "name": "ipython",
    "version": 3
   },
   "file_extension": ".py",
   "mimetype": "text/x-python",
   "name": "python",
   "nbconvert_exporter": "python",
   "pygments_lexer": "ipython3",
   "version": "3.8.3"
  }
 },
 "nbformat": 4,
 "nbformat_minor": 4
}
